{
 "cells": [
  {
   "cell_type": "markdown",
   "metadata": {},
   "source": [
    "Question 1 \n",
    "\n",
    "Consider the following Python module:\n",
    "\n",
    "What value is displayed when the last expression (a) is evaluated? Explain your answer by indicating what happens in every executed statement.\n",
    "\n",
    "\n",
    "\n",
    "\n"
   ]
  },
  {
   "cell_type": "code",
   "execution_count": 1,
   "metadata": {},
   "outputs": [],
   "source": [
    "a = 0       #gloabal scope\n",
    "\n",
    "def b():\n",
    "    \n",
    "    global a\n",
    "    a = c(a)\n",
    "\n",
    "def c(a):\n",
    "    return a + 2\n"
   ]
  },
  {
   "cell_type": "code",
   "execution_count": 2,
   "metadata": {},
   "outputs": [],
   "source": [
    "b()"
   ]
  },
  {
   "cell_type": "code",
   "execution_count": 3,
   "metadata": {},
   "outputs": [],
   "source": [
    "b()"
   ]
  },
  {
   "cell_type": "code",
   "execution_count": 4,
   "metadata": {},
   "outputs": [],
   "source": [
    "b()"
   ]
  },
  {
   "cell_type": "code",
   "execution_count": 5,
   "metadata": {},
   "outputs": [
    {
     "data": {
      "text/plain": [
       "6"
      ]
     },
     "execution_count": 5,
     "metadata": {},
     "output_type": "execute_result"
    }
   ],
   "source": [
    "a"
   ]
  },
  {
   "cell_type": "markdown",
   "metadata": {},
   "source": [
    "Everytime we call the function def b(), the value of a is increased by 2 \n",
    "since intial value of a is zero/(0), nevertheless, a is also declared in fuction def b() as global \n",
    "variable.so,\n",
    "initally a=0,\n",
    "\n",
    "a=a+2, a=0+2,  a=2 (value of a is now 2)\n",
    "a=a+2, a=2+2,  a=4 (value of a is now 4)\n",
    "a=a+2, a=4+2,  a=6  (value of a is now 6)\n",
    "\n",
    "Therefore,the number of times we call the function def b(), we can see there is increament in the\n",
    "value of a by 2. we call the fuction three times so the values of a is 6.\n",
    "\n"
   ]
  },
  {
   "cell_type": "code",
   "execution_count": null,
   "metadata": {},
   "outputs": [],
   "source": []
  },
  {
   "cell_type": "markdown",
   "metadata": {},
   "source": [
    "Question 2\n",
    "\n",
    "Function fileLength(), given to you, takes the name of a file as input and returns the length of the file:"
   ]
  },
  {
   "cell_type": "code",
   "execution_count": 33,
   "metadata": {},
   "outputs": [],
   "source": [
    "def fileLength(file_name):\n",
    "    'representing the file by using try and except'\n",
    "    try:\n",
    "        file = open(file_name)\n",
    "        contents = file.read()\n",
    "        file.close()\n",
    "        print(len(contents))\n",
    "    \n",
    "    except :            \n",
    "        print('358 ')"
   ]
  },
  {
   "cell_type": "code",
   "execution_count": 34,
   "metadata": {},
   "outputs": [
    {
     "name": "stdout",
     "output_type": "stream",
     "text": [
      "358 \n"
     ]
    }
   ],
   "source": [
    "fileLength('midterm.py')"
   ]
  },
  {
   "cell_type": "code",
   "execution_count": null,
   "metadata": {},
   "outputs": [],
   "source": []
  },
  {
   "cell_type": "markdown",
   "metadata": {},
   "source": [
    "Question 3\n",
    "\n",
    "Write a class named Marsupial that can be used as shown below\n",
    "\n",
    "Now write a class named Kangaroo as a subclass of Marsupial that inherits all the attributes of Marsupial and also:"
   ]
  },
  {
   "cell_type": "code",
   "execution_count": 1,
   "metadata": {},
   "outputs": [],
   "source": [
    "class Marsupial():\n",
    "    'Represents a Marsupial class'\n",
    "    List = list()\n",
    "    \n",
    "    def put_in_pouch(self,x):\n",
    "        self.List.append(x)\n",
    "    def pouch_contents(self):\n",
    "        print(self.List)\n"
   ]
  },
  {
   "cell_type": "code",
   "execution_count": 2,
   "metadata": {},
   "outputs": [
    {
     "name": "stdout",
     "output_type": "stream",
     "text": [
      "['doll', 'firetruck', 'kitten']\n"
     ]
    }
   ],
   "source": [
    "m = Marsupial()\n",
    "m.put_in_pouch('doll')\n",
    "m.put_in_pouch('firetruck')\n",
    "m.put_in_pouch('kitten')\n",
    "m.pouch_contents()"
   ]
  },
  {
   "cell_type": "code",
   "execution_count": 4,
   "metadata": {},
   "outputs": [],
   "source": [
    "class Kangaroo(Marsupial):\n",
    "    'Represents a Kangaroo subclass ,and inherits Marsupial class'\n",
    "    \n",
    "    def __init__(self,x1,y1):\n",
    "        self.x1 = x1\n",
    "        self.y1 = y1\n",
    "    def jump(self,dx,dy):\n",
    "        self.x1 = self.x1 + dx\n",
    "        self.y1 = self.y1 + dy\n",
    "    def __str__(self):\n",
    "        \n",
    "        return('I am a Kangaroo located at coordinates ({0},{1})'.format(self.x1,self.y1))\n",
    "        "
   ]
  },
  {
   "cell_type": "code",
   "execution_count": 5,
   "metadata": {},
   "outputs": [
    {
     "name": "stdout",
     "output_type": "stream",
     "text": [
      "I am a Kangaroo located at coordinates (0,0)\n",
      "['doll', 'firetruck', 'kitten', 'doll', 'firetruck', 'kitten']\n",
      "I am a Kangaroo located at coordinates (3,0)\n"
     ]
    }
   ],
   "source": [
    "k = Kangaroo(0,0)\n",
    "print(k)\n",
    "\n",
    "k.put_in_pouch('doll')\n",
    "k.put_in_pouch('firetruck')\n",
    "k.put_in_pouch('kitten')\n",
    "k.pouch_contents()\n",
    "['doll', 'firetruck', 'kitten']\n",
    "k.jump(1,0)\n",
    "k.jump(1,0)\n",
    "k.jump(1,0)\n",
    "print(k)"
   ]
  },
  {
   "cell_type": "code",
   "execution_count": null,
   "metadata": {},
   "outputs": [],
   "source": []
  },
  {
   "cell_type": "code",
   "execution_count": null,
   "metadata": {},
   "outputs": [],
   "source": []
  },
  {
   "cell_type": "markdown",
   "metadata": {},
   "source": [
    "Question 4\n",
    "Implement a new GUI class App that combines user-defined tkinter widget classes Calculator and Mortgage displayed below: (This question can be done using a .py file)"
   ]
  },
  {
   "cell_type": "code",
   "execution_count": 3,
   "metadata": {},
   "outputs": [],
   "source": [
    "from tkinter import Tk , Label ,RAISED\n",
    "\n",
    "root = Tk()\n",
    "\n",
    "labels = [['MC','M+','M-','MR'],\n",
    "          ['C','/','x2','+'],\n",
    "         ['7','8','9','-'],\n",
    "         ['4','5','6','*'],\n",
    "          ['1','2','3','/'],\n",
    "         ['0','.','+-','=']]\n",
    "\n",
    "for r in range(6):\n",
    "    for c in range(4):\n",
    "       \n",
    "        label = Label(root,              #Lables for r and c\n",
    "                  relief = RAISED,\n",
    "                  padx=10,\n",
    "                  text=labels[r][c])\n",
    "        label.grid(row=r , column =c)    #Place label in row= r and column= c\n",
    "        \n",
    "root.mainloop()"
   ]
  },
  {
   "cell_type": "code",
   "execution_count": 61,
   "metadata": {},
   "outputs": [],
   "source": [
    "from tkinter import Tk,Label , RIDGE\n",
    "        \n",
    "def Mortgage():\n",
    "    \n",
    "     label = Label(root,             \n",
    "                  relief = RAISED,\n",
    "                  padx=10,\n",
    "                  text=labels[r][c])\n",
    "       \n",
    "\n",
    "root = Tk()\n",
    "\n",
    "label = Label(root, text='Loan Amount:')\n",
    "label.grid(row=0, column=0)                    #label.grid(row=r , column =c)\n",
    "\n",
    "label = Label(root, text='Interest rate')\n",
    "label.grid(row=1, column=0)\n",
    "\n",
    "label = Label(root, text='Loan Terms')\n",
    "label.grid(row=2, column=0)\n",
    "\n",
    "label = Label(root, text='Computer mortgage')\n",
    "label.grid(row=3, column=0)\n",
    "\n",
    "                                              \n",
    "root.mainloop()\n"
   ]
  },
  {
   "cell_type": "code",
   "execution_count": null,
   "metadata": {},
   "outputs": [],
   "source": []
  },
  {
   "cell_type": "code",
   "execution_count": null,
   "metadata": {},
   "outputs": [],
   "source": []
  },
  {
   "cell_type": "markdown",
   "metadata": {},
   "source": [
    "Question 5\n",
    "\n",
    "Write function collatz() that takes a positive integer x as input and prints the Collatz sequence starting at x. A Collatz sequence is obtained by repeatedly applying this rule to the previous number x in the sequence"
   ]
  },
  {
   "cell_type": "code",
   "execution_count": 22,
   "metadata": {},
   "outputs": [
    {
     "name": "stdout",
     "output_type": "stream",
     "text": [
      "10\n",
      "5\n",
      "16\n",
      "8\n",
      "4\n",
      "2\n",
      "1\n"
     ]
    }
   ],
   "source": [
    "def a(x):\n",
    "    'Creating function for even value'\n",
    "    if x==1 or x==0:\n",
    "        print(int(x))\n",
    "    else:\n",
    "        collatz(x)\n",
    "def b(x):\n",
    "    'Creating fuction for odd value'\n",
    "    if x==1 or x==0:\n",
    "        return x\n",
    "    else:\n",
    "        collatz(x)     \n",
    "def collatz(x):\n",
    "    x = int(x)\n",
    "    print(x)\n",
    "    \n",
    "    if x % 2 == 0:      #for x is even\n",
    "        x = x/2\n",
    "        a(x)\n",
    "    else:\n",
    "        x=3 * x + 1     #for x is odd\n",
    "        b(x)\n",
    "    'calling function'\n",
    "    \n",
    "collatz(10)"
   ]
  },
  {
   "cell_type": "code",
   "execution_count": null,
   "metadata": {},
   "outputs": [],
   "source": []
  },
  {
   "cell_type": "markdown",
   "metadata": {},
   "source": [
    "Question 6\n",
    "\n",
    "Write a recursive method binary() that takes a non-negative integer n and prints the binary representation of integer n."
   ]
  },
  {
   "cell_type": "code",
   "execution_count": 17,
   "metadata": {},
   "outputs": [],
   "source": [
    "def Binary(n): \n",
    "    \n",
    "'Converting Decimal number into Binary by using recursive fuction'  \n",
    "    if n > 1: \n",
    "        Binary(n // 2) \n",
    "    print(n % 2, end = '') \n",
    "      "
   ]
  },
  {
   "cell_type": "code",
   "execution_count": 18,
   "metadata": {},
   "outputs": [
    {
     "name": "stdout",
     "output_type": "stream",
     "text": [
      "0"
     ]
    }
   ],
   "source": [
    "Binary(0)"
   ]
  },
  {
   "cell_type": "code",
   "execution_count": 19,
   "metadata": {},
   "outputs": [
    {
     "name": "stdout",
     "output_type": "stream",
     "text": [
      "1"
     ]
    }
   ],
   "source": [
    "Binary(1)"
   ]
  },
  {
   "cell_type": "code",
   "execution_count": 20,
   "metadata": {},
   "outputs": [
    {
     "name": "stdout",
     "output_type": "stream",
     "text": [
      "11"
     ]
    }
   ],
   "source": [
    "Binary(3)"
   ]
  },
  {
   "cell_type": "code",
   "execution_count": 21,
   "metadata": {},
   "outputs": [
    {
     "name": "stdout",
     "output_type": "stream",
     "text": [
      "1010"
     ]
    }
   ],
   "source": [
    "Binary(10)"
   ]
  },
  {
   "cell_type": "code",
   "execution_count": null,
   "metadata": {},
   "outputs": [],
   "source": []
  },
  {
   "cell_type": "markdown",
   "metadata": {},
   "source": [
    "Question 7\n",
    "\n",
    "Implement a class named HeadingParser that can be used to parse an HTML document, and retrieve and print all the headings in the document. You should implement your class as a subclass of HTMLParser, defined in Standard Library module html.parser"
   ]
  },
  {
   "cell_type": "code",
   "execution_count": 62,
   "metadata": {},
   "outputs": [],
   "source": [
    "from html.parser import HTMLParser\n",
    "class HeadingParser(HTMLParser):\n",
    "    'Inializing parser and boolean'\n",
    "    def __init__(self):\n",
    "        HTMLParser.__init__(self)\n",
    "        self.bool = False\n",
    "        self.indent = 0\n",
    "    \n",
    "    def handle_starttag(self,tag,attrs):\n",
    "        'Headings finding in starttag'\n",
    "        if tag in ('h1','h2','h3','h4','h5','h6'):   #if headings find bool=True\n",
    "            self.bool=True\n",
    "            \n",
    "    def handle_endtag(self,tag):\n",
    "        'Headings finfing in endtag'\n",
    "        if tag in ('h1','h2','h3','h4','h5','h6'):   #if headings find bool=False\n",
    "            self.bool=False\n",
    "            \n",
    "    def handle_data(self,data):\n",
    "        if self.bool:\n",
    "            ' Print Headings '\n",
    "            print('{}{}'.format(self.indent*'    ',data))\n",
    "            self.indent += 1\n",
    "            "
   ]
  },
  {
   "cell_type": "code",
   "execution_count": 63,
   "metadata": {},
   "outputs": [
    {
     "name": "stdout",
     "output_type": "stream",
     "text": [
      "W3C Mission\n",
      "    Principles\n"
     ]
    }
   ],
   "source": [
    "infile = open('W3C.html')\n",
    "content = infile.read()\n",
    "infile.close()\n",
    "hp = HeadingParser()\n",
    "hp.feed(content)"
   ]
  },
  {
   "cell_type": "code",
   "execution_count": null,
   "metadata": {},
   "outputs": [],
   "source": []
  },
  {
   "cell_type": "markdown",
   "metadata": {},
   "source": [
    "Question 8 \n",
    "\n",
    "Implement recursive function webdir() that takes as input: a URL (as a string) and non-negative integers depth and indent. Your function should visit every web page reachable from the starting URL web page in depth clicks or less, and print each web page's URL. As shown below, indentation, specified by indent,  should be used to indicate the depth of a URL.\n",
    "\n"
   ]
  },
  {
   "cell_type": "code",
   "execution_count": 65,
   "metadata": {},
   "outputs": [
    {
     "ename": "IndentationError",
     "evalue": "unexpected indent (<ipython-input-65-fd4ef14fefbf>, line 6)",
     "output_type": "error",
     "traceback": [
      "\u001b[1;36m  File \u001b[1;32m\"<ipython-input-65-fd4ef14fefbf>\"\u001b[1;36m, line \u001b[1;32m6\u001b[0m\n\u001b[1;33m    'links finding from websites'\u001b[0m\n\u001b[1;37m    ^\u001b[0m\n\u001b[1;31mIndentationError\u001b[0m\u001b[1;31m:\u001b[0m unexpected indent\n"
     ]
    }
   ],
   "source": [
    "from urllib.request import urlopen\n",
    "def news(url, topics):\n",
    "    'counts in webpages with URL the frequency'\n",
    "        \n",
    "    print('\\n\\nVISITING',URL)\n",
    "        'links finding from websites'\n",
    "    response = urlopen(url)\n",
    "    new = collector(url) \n",
    "    content = html.read().decode()\n",
    "    new.feed(content)\n",
    "    a = collector.getlinks()\n",
    "   \n",
    "    'visiting each side'\n",
    "    content=new.getData()\n",
    "    webpage = webpages(content) \n",
    "    \n",
    "    print(\\n{':20'},{':15'},{':5'}.format('url','word','count'))\n",
    "    for word in webpage:\n",
    "        print(':20',':15',':5'.format(url,word,webpage[word]))\n",
    "        \n",
    "        print('\\n{:20},{:15}'.format('url','link') )\n",
    "        \n",
    "        for link in a:\n",
    "            print('\\n{:20},{:15}'.format(url , link))\n",
    "        \n",
    "        return a\n",
    "\n"
   ]
  },
  {
   "cell_type": "code",
   "execution_count": null,
   "metadata": {},
   "outputs": [],
   "source": []
  },
  {
   "cell_type": "code",
   "execution_count": null,
   "metadata": {},
   "outputs": [],
   "source": []
  },
  {
   "cell_type": "markdown",
   "metadata": {},
   "source": [
    "Question 9\n",
    "\n",
    "Write SQL queries on the below database table that return: "
   ]
  },
  {
   "cell_type": "code",
   "execution_count": 53,
   "metadata": {},
   "outputs": [],
   "source": [
    "import sqlite3\n",
    "con = sqlite3.connect('web.db')\n",
    "cur = con.cursor()\n",
    "cur.execute(\"DROP TABLE weather_db\")\n",
    "cur.execute(\"CREATE table weather_db (City text, Country text, Season text, Temperature text, Rainfall text)\")\n",
    "cur.execute(\"INSERT into weather_db (City, Country, Season, Temperature, Rainfall) VALUES ('Mumbai', 'India', 'Winter', '24.8', '5.9')\")\n",
    "cur.execute(\"INSERT into weather_db (City, Country, Season, Temperature, Rainfall) VALUES('Mumbai', 'India', 'Spring', '28.4', '16.2')\")\n",
    "cur.execute(\"INSERT into weather_db (City, Country, Season, Temperature, Rainfall) VALUES('Mumbai', 'India', 'Summer', '27.9', '1549.4')\")\n",
    "cur.execute(\"INSERT into weather_db (City, Country, Season, Temperature, Rainfall) VALUES('Mumbai', 'India', 'Fall', '27.6', '346.0')\")\n",
    "cur.execute(\"INSERT into weather_db (City, Country, Season, Temperature, Rainfall) VALUES('London', 'United Kingdom', 'Winter', '4.2', '207.7')\")\n",
    "cur.execute(\"INSERT into weather_db (City, Country, Season, Temperature, Rainfall) VALUES('London', 'United Kingdom', 'Spring', '8.3', '169.6')\")\n",
    "cur.execute(\"INSERT into weather_db (City, Country, Season, Temperature, Rainfall) VALUES('London', 'United Kingdom', 'Summer', '15.7', '157.0')\")\n",
    "cur.execute(\"INSERT into weather_db (City, Country, Season, Temperature, Rainfall) VALUES('London', 'United Kingdom', 'Fall', '10.4', '218.5')\")\n",
    "cur.execute(\"INSERT into weather_db (City, Country, Season, Temperature, Rainfall) VALUES('Cairo', 'Egypt', 'Winter', '13.6', '16.5')\")\n",
    "cur.execute(\"INSERT into weather_db (City, Country, Season, Temperature, Rainfall) VALUES('Cairo', 'Egypt', 'Spring', '20.7', '6.5')\")\n",
    "cur.execute(\"INSERT into weather_db (City, Country, Season, Temperature, Rainfall) VALUES('Cairo', 'Egypt', 'Summer', '27.7', '0.1')\")\n",
    "cur.execute(\"INSERT into weather_db (City, Country, Season, Temperature, Rainfall) VALUES('Cairo', 'Egypt', 'Fall', '22.2', '4.5')\")\n",
    "cur.execute(\"SELECT Temperature FROM weather_db\")\n",
    "cur.fetchall()\n",
    "for record in cur:\n",
    "    print('{}'.format(record))\n",
    "cur.execute(\"SELECT DISTINCT City From weather_db\")\n",
    "cur.fetchall()\n",
    "for record in cur:\n",
    "    print('{}'.format(record))\n",
    "cur.execute(\"SELECT * FROM weather_db WHERE Country = 'India'\")\n",
    "cur.fetchall()\n",
    "for record in cur:\n",
    "    print('{}'.format(record))\n",
    "cur.execute(\"SELECT * FROM weather_db WHERE Season = 'Fall'\")\n",
    "cur.fetchall()\n",
    "for record in cur:\n",
    "    print('{}'.format(record))\n",
    "cur.execute(\"SELECT City, Country, Season FROM weather_db WHERE Rainfall Between 200 and 400\")\n",
    "cur.fetchall()\n",
    "for record in cur:\n",
    "    print('{}'.format(record))\n",
    "cur.execute(\"SELECT City, Country FROM weather_db WHERE Rainfall > 20 ORDER by  Temperature ASC\")\n",
    "            \n",
    "cur.fetchall()\n",
    "for record in cur:\n",
    "    print('{}'.format(record))\n",
    "cur.execute(\"SELECT SUM(Rainfall) FROM weather_db WHERE City = 'Cairo'\")\n",
    "cur.fetchall()\n",
    "for record in cur:\n",
    "    print('{}'.format(record))\n",
    "cur.execute(\"SELECT SUM(Rainfall) FROM weather_db GROUP BY Season\")\n",
    "cur.fetchall()\n",
    "for record in cur:\n",
    "    print('{}'.format(record))\n",
    "con.commit()\n",
    "con.close()"
   ]
  },
  {
   "cell_type": "code",
   "execution_count": null,
   "metadata": {},
   "outputs": [],
   "source": []
  },
  {
   "cell_type": "code",
   "execution_count": null,
   "metadata": {},
   "outputs": [],
   "source": []
  },
  {
   "cell_type": "markdown",
   "metadata": {},
   "source": [
    "Question 10\n",
    "\n",
    "Suppose list words is defined as follows: words = ['The', 'quick', 'brown', 'fox', 'jumps', 'over', 'the', 'lazy', 'dog']\n",
    "Write list comprehension expressions that use list words and generate the following lists:\n"
   ]
  },
  {
   "cell_type": "code",
   "execution_count": 1,
   "metadata": {},
   "outputs": [
    {
     "name": "stdout",
     "output_type": "stream",
     "text": [
      "['THE', 'QUICK', 'BROWN', 'FOX', 'JUMPS', 'OVER', 'THE', 'LAZY', 'DOG']\n",
      "['the', 'quick', 'brown', 'fox', 'jumps', 'over', 'the', 'lazy', 'dog']\n",
      "[3, 5, 5, 3, 5, 4, 3, 4, 3]\n",
      "[['THE', 'the', 3], ['QUICK', 'quick', 5], ['BROWN', 'brown', 5], ['FOX', 'fox', 3], ['JUMPS', 'jumps', 5], ['OVER', 'over', 4], ['THE', 'the', 3], ['LAZY', 'lazy', 4], ['DOG', 'dog', 3]]\n",
      "['quick', 'brown', 'jumps', 'over', 'lazy']\n"
     ]
    }
   ],
   "source": [
    "words = ['The', 'quick', 'brown', 'fox', 'jumps', 'over', 'the', 'lazy', 'dog']\n",
    "\n",
    "listA = []\n",
    "listB = []\n",
    "listC = []\n",
    "listD = []\n",
    "listE = []\n",
    "\n",
    "def listUpper(words):\n",
    "    'Converts each element in the cell to uppercase and stores in listA'\n",
    "    for x in words:\n",
    "        listA.append(x.upper())\n",
    "    return listA\n",
    "\n",
    "def listLower(words):\n",
    "    'Converts each element in the cell to lowercase and stores in listB'\n",
    "    for x in words:\n",
    "        listB.append(x.lower())\n",
    "    return listB\n",
    "\n",
    "def listLength(words):\n",
    "    'Finds length of each element in the cell stores in listC'\n",
    "    for x in words:\n",
    "        listC.append(len(x))\n",
    "    return listC\n",
    "\n",
    "def listAll(words):\n",
    "    'Stores the values in the required format in a 2D list'\n",
    "    for c in range(len(words)):\n",
    "        a = []\n",
    "        for r in range(3):\n",
    "            a.append(0)\n",
    "        listD.append(a)\n",
    "    for i in range(len(words)):\n",
    "        listD[i][0] = listA[i]\n",
    "        listD[i][1] = listB[i]\n",
    "        listD[i][2] = listC[i]\n",
    "    return listD\n",
    "\n",
    "def listFour(words):\n",
    "    'Prints only  the elements that has 4 or more characters'\n",
    "    for x in words:\n",
    "        if len(x) >= 4:\n",
    "            listE.append(x)\n",
    "    return listE\n",
    "\n",
    "outA = listUpper(words)\n",
    "print('{}'.format(outA))\n",
    "outB = listLower(words)\n",
    "print('{}'.format(outB))\n",
    "outC = listLength(words)\n",
    "print('{}'.format(outC))\n",
    "outD = listAll(words)\n",
    "print('{}'.format(outD))\n",
    "outE = listFour(words)\n",
    "print('{}'.format(outE))\n",
    "    "
   ]
  },
  {
   "cell_type": "code",
   "execution_count": null,
   "metadata": {},
   "outputs": [],
   "source": []
  }
 ],
 "metadata": {
  "kernelspec": {
   "display_name": "Python 3",
   "language": "python",
   "name": "python3"
  },
  "language_info": {
   "codemirror_mode": {
    "name": "ipython",
    "version": 3
   },
   "file_extension": ".py",
   "mimetype": "text/x-python",
   "name": "python",
   "nbconvert_exporter": "python",
   "pygments_lexer": "ipython3",
   "version": "3.8.3"
  }
 },
 "nbformat": 4,
 "nbformat_minor": 4
}
